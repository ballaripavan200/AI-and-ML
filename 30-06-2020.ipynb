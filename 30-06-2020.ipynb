{
 "cells": [
  {
   "cell_type": "code",
   "execution_count": 36,
   "metadata": {},
   "outputs": [],
   "source": [
    "import pandas as pd\n",
    "import numpy as np\n",
    "import matplotlib.pyplot as plt\n",
    "import seaborn as sns\n",
    "%matplotlib inline"
   ]
  },
  {
   "cell_type": "code",
   "execution_count": 37,
   "metadata": {},
   "outputs": [
    {
     "data": {
      "text/html": [
       "<div>\n",
       "<style scoped>\n",
       "    .dataframe tbody tr th:only-of-type {\n",
       "        vertical-align: middle;\n",
       "    }\n",
       "\n",
       "    .dataframe tbody tr th {\n",
       "        vertical-align: top;\n",
       "    }\n",
       "\n",
       "    .dataframe thead th {\n",
       "        text-align: right;\n",
       "    }\n",
       "</style>\n",
       "<table border=\"1\" class=\"dataframe\">\n",
       "  <thead>\n",
       "    <tr style=\"text-align: right;\">\n",
       "      <th></th>\n",
       "      <th>id</th>\n",
       "      <th>diagnosis</th>\n",
       "      <th>radius_mean</th>\n",
       "      <th>texture_mean</th>\n",
       "      <th>perimeter_mean</th>\n",
       "      <th>area_mean</th>\n",
       "      <th>smoothness_mean</th>\n",
       "      <th>compactness_mean</th>\n",
       "      <th>concavity_mean</th>\n",
       "      <th>points_mean</th>\n",
       "      <th>...</th>\n",
       "      <th>radius_worst</th>\n",
       "      <th>texture_worst</th>\n",
       "      <th>perimeter_worst</th>\n",
       "      <th>area_worst</th>\n",
       "      <th>smoothness_worst</th>\n",
       "      <th>compactness_worst</th>\n",
       "      <th>concavity_worst</th>\n",
       "      <th>points_worst</th>\n",
       "      <th>symmetry_worst</th>\n",
       "      <th>dimension_worst</th>\n",
       "    </tr>\n",
       "  </thead>\n",
       "  <tbody>\n",
       "    <tr>\n",
       "      <th>0</th>\n",
       "      <td>87139402</td>\n",
       "      <td>B</td>\n",
       "      <td>12.32</td>\n",
       "      <td>12.39</td>\n",
       "      <td>78.85</td>\n",
       "      <td>464.1</td>\n",
       "      <td>0.10280</td>\n",
       "      <td>0.06981</td>\n",
       "      <td>0.03987</td>\n",
       "      <td>0.03700</td>\n",
       "      <td>...</td>\n",
       "      <td>13.50</td>\n",
       "      <td>15.64</td>\n",
       "      <td>86.97</td>\n",
       "      <td>549.1</td>\n",
       "      <td>0.1385</td>\n",
       "      <td>0.1266</td>\n",
       "      <td>0.12420</td>\n",
       "      <td>0.09391</td>\n",
       "      <td>0.2827</td>\n",
       "      <td>0.06771</td>\n",
       "    </tr>\n",
       "    <tr>\n",
       "      <th>1</th>\n",
       "      <td>8910251</td>\n",
       "      <td>B</td>\n",
       "      <td>10.60</td>\n",
       "      <td>18.95</td>\n",
       "      <td>69.28</td>\n",
       "      <td>346.4</td>\n",
       "      <td>0.09688</td>\n",
       "      <td>0.11470</td>\n",
       "      <td>0.06387</td>\n",
       "      <td>0.02642</td>\n",
       "      <td>...</td>\n",
       "      <td>11.88</td>\n",
       "      <td>22.94</td>\n",
       "      <td>78.28</td>\n",
       "      <td>424.8</td>\n",
       "      <td>0.1213</td>\n",
       "      <td>0.2515</td>\n",
       "      <td>0.19160</td>\n",
       "      <td>0.07926</td>\n",
       "      <td>0.2940</td>\n",
       "      <td>0.07587</td>\n",
       "    </tr>\n",
       "    <tr>\n",
       "      <th>2</th>\n",
       "      <td>905520</td>\n",
       "      <td>B</td>\n",
       "      <td>11.04</td>\n",
       "      <td>16.83</td>\n",
       "      <td>70.92</td>\n",
       "      <td>373.2</td>\n",
       "      <td>0.10770</td>\n",
       "      <td>0.07804</td>\n",
       "      <td>0.03046</td>\n",
       "      <td>0.02480</td>\n",
       "      <td>...</td>\n",
       "      <td>12.41</td>\n",
       "      <td>26.44</td>\n",
       "      <td>79.93</td>\n",
       "      <td>471.4</td>\n",
       "      <td>0.1369</td>\n",
       "      <td>0.1482</td>\n",
       "      <td>0.10670</td>\n",
       "      <td>0.07431</td>\n",
       "      <td>0.2998</td>\n",
       "      <td>0.07881</td>\n",
       "    </tr>\n",
       "    <tr>\n",
       "      <th>3</th>\n",
       "      <td>868871</td>\n",
       "      <td>B</td>\n",
       "      <td>11.28</td>\n",
       "      <td>13.39</td>\n",
       "      <td>73.00</td>\n",
       "      <td>384.8</td>\n",
       "      <td>0.11640</td>\n",
       "      <td>0.11360</td>\n",
       "      <td>0.04635</td>\n",
       "      <td>0.04796</td>\n",
       "      <td>...</td>\n",
       "      <td>11.92</td>\n",
       "      <td>15.77</td>\n",
       "      <td>76.53</td>\n",
       "      <td>434.0</td>\n",
       "      <td>0.1367</td>\n",
       "      <td>0.1822</td>\n",
       "      <td>0.08669</td>\n",
       "      <td>0.08611</td>\n",
       "      <td>0.2102</td>\n",
       "      <td>0.06784</td>\n",
       "    </tr>\n",
       "    <tr>\n",
       "      <th>4</th>\n",
       "      <td>9012568</td>\n",
       "      <td>B</td>\n",
       "      <td>15.19</td>\n",
       "      <td>13.21</td>\n",
       "      <td>97.65</td>\n",
       "      <td>711.8</td>\n",
       "      <td>0.07963</td>\n",
       "      <td>0.06934</td>\n",
       "      <td>0.03393</td>\n",
       "      <td>0.02657</td>\n",
       "      <td>...</td>\n",
       "      <td>16.20</td>\n",
       "      <td>15.73</td>\n",
       "      <td>104.50</td>\n",
       "      <td>819.1</td>\n",
       "      <td>0.1126</td>\n",
       "      <td>0.1737</td>\n",
       "      <td>0.13620</td>\n",
       "      <td>0.08178</td>\n",
       "      <td>0.2487</td>\n",
       "      <td>0.06766</td>\n",
       "    </tr>\n",
       "  </tbody>\n",
       "</table>\n",
       "<p>5 rows × 32 columns</p>\n",
       "</div>"
      ],
      "text/plain": [
       "         id diagnosis  radius_mean  texture_mean  perimeter_mean  area_mean  \\\n",
       "0  87139402         B        12.32         12.39           78.85      464.1   \n",
       "1   8910251         B        10.60         18.95           69.28      346.4   \n",
       "2    905520         B        11.04         16.83           70.92      373.2   \n",
       "3    868871         B        11.28         13.39           73.00      384.8   \n",
       "4   9012568         B        15.19         13.21           97.65      711.8   \n",
       "\n",
       "   smoothness_mean  compactness_mean  concavity_mean  points_mean  ...  \\\n",
       "0          0.10280           0.06981         0.03987      0.03700  ...   \n",
       "1          0.09688           0.11470         0.06387      0.02642  ...   \n",
       "2          0.10770           0.07804         0.03046      0.02480  ...   \n",
       "3          0.11640           0.11360         0.04635      0.04796  ...   \n",
       "4          0.07963           0.06934         0.03393      0.02657  ...   \n",
       "\n",
       "   radius_worst  texture_worst  perimeter_worst  area_worst  smoothness_worst  \\\n",
       "0         13.50          15.64            86.97       549.1            0.1385   \n",
       "1         11.88          22.94            78.28       424.8            0.1213   \n",
       "2         12.41          26.44            79.93       471.4            0.1369   \n",
       "3         11.92          15.77            76.53       434.0            0.1367   \n",
       "4         16.20          15.73           104.50       819.1            0.1126   \n",
       "\n",
       "   compactness_worst  concavity_worst  points_worst  symmetry_worst  \\\n",
       "0             0.1266          0.12420       0.09391          0.2827   \n",
       "1             0.2515          0.19160       0.07926          0.2940   \n",
       "2             0.1482          0.10670       0.07431          0.2998   \n",
       "3             0.1822          0.08669       0.08611          0.2102   \n",
       "4             0.1737          0.13620       0.08178          0.2487   \n",
       "\n",
       "   dimension_worst  \n",
       "0          0.06771  \n",
       "1          0.07587  \n",
       "2          0.07881  \n",
       "3          0.06784  \n",
       "4          0.06766  \n",
       "\n",
       "[5 rows x 32 columns]"
      ]
     },
     "execution_count": 37,
     "metadata": {},
     "output_type": "execute_result"
    }
   ],
   "source": [
    "data=pd.read_csv(\"https://raw.githubusercontent.com/Mounika-Kajjam/Datasets/master/wbcd.csv\")\n",
    "data.head()"
   ]
  },
  {
   "cell_type": "code",
   "execution_count": 38,
   "metadata": {},
   "outputs": [
    {
     "data": {
      "text/plain": [
       "(569, 32)"
      ]
     },
     "execution_count": 38,
     "metadata": {},
     "output_type": "execute_result"
    }
   ],
   "source": [
    "data.shape"
   ]
  },
  {
   "cell_type": "code",
   "execution_count": 39,
   "metadata": {},
   "outputs": [
    {
     "data": {
      "text/plain": [
       "B    357\n",
       "M    212\n",
       "Name: diagnosis, dtype: int64"
      ]
     },
     "execution_count": 39,
     "metadata": {},
     "output_type": "execute_result"
    }
   ],
   "source": [
    "data.diagnosis.value_counts()"
   ]
  },
  {
   "cell_type": "code",
   "execution_count": 40,
   "metadata": {},
   "outputs": [
    {
     "data": {
      "text/plain": [
       "id                   0\n",
       "diagnosis            0\n",
       "radius_mean          0\n",
       "texture_mean         0\n",
       "perimeter_mean       0\n",
       "area_mean            0\n",
       "smoothness_mean      0\n",
       "compactness_mean     0\n",
       "concavity_mean       0\n",
       "points_mean          0\n",
       "symmetry_mean        0\n",
       "dimension_mean       0\n",
       "radius_se            0\n",
       "texture_se           0\n",
       "perimeter_se         0\n",
       "area_se              0\n",
       "smoothness_se        0\n",
       "compactness_se       0\n",
       "concavity_se         0\n",
       "points_se            0\n",
       "symmetry_se          0\n",
       "dimension_se         0\n",
       "radius_worst         0\n",
       "texture_worst        0\n",
       "perimeter_worst      0\n",
       "area_worst           0\n",
       "smoothness_worst     0\n",
       "compactness_worst    0\n",
       "concavity_worst      0\n",
       "points_worst         0\n",
       "symmetry_worst       0\n",
       "dimension_worst      0\n",
       "dtype: int64"
      ]
     },
     "execution_count": 40,
     "metadata": {},
     "output_type": "execute_result"
    }
   ],
   "source": [
    "data.isnull().sum()"
   ]
  },
  {
   "cell_type": "code",
   "execution_count": 41,
   "metadata": {},
   "outputs": [
    {
     "data": {
      "text/plain": [
       "<bound method NDFrame.head of      radius_mean  texture_mean  perimeter_mean  area_mean  smoothness_mean  \\\n",
       "0          12.32         12.39           78.85      464.1          0.10280   \n",
       "1          10.60         18.95           69.28      346.4          0.09688   \n",
       "2          11.04         16.83           70.92      373.2          0.10770   \n",
       "3          11.28         13.39           73.00      384.8          0.11640   \n",
       "4          15.19         13.21           97.65      711.8          0.07963   \n",
       "..           ...           ...             ...        ...              ...   \n",
       "564        13.17         18.22           84.28      537.3          0.07466   \n",
       "565        10.26         14.71           66.20      321.6          0.09882   \n",
       "566        15.28         22.41           98.92      710.6          0.09057   \n",
       "567        14.53         13.98           93.86      644.2          0.10990   \n",
       "568        21.37         15.10          141.30     1386.0          0.10010   \n",
       "\n",
       "     compactness_mean  concavity_mean  points_mean  symmetry_mean  \\\n",
       "0             0.06981         0.03987      0.03700         0.1959   \n",
       "1             0.11470         0.06387      0.02642         0.1922   \n",
       "2             0.07804         0.03046      0.02480         0.1714   \n",
       "3             0.11360         0.04635      0.04796         0.1771   \n",
       "4             0.06934         0.03393      0.02657         0.1721   \n",
       "..                ...             ...          ...            ...   \n",
       "564           0.05994         0.04859      0.02870         0.1454   \n",
       "565           0.09159         0.03581      0.02037         0.1633   \n",
       "566           0.10520         0.05375      0.03263         0.1727   \n",
       "567           0.09242         0.06895      0.06495         0.1650   \n",
       "568           0.15150         0.19320      0.12550         0.1973   \n",
       "\n",
       "     dimension_mean  ...  radius_worst  texture_worst  perimeter_worst  \\\n",
       "0           0.05955  ...         13.50          15.64            86.97   \n",
       "1           0.06491  ...         11.88          22.94            78.28   \n",
       "2           0.06340  ...         12.41          26.44            79.93   \n",
       "3           0.06072  ...         11.92          15.77            76.53   \n",
       "4           0.05544  ...         16.20          15.73           104.50   \n",
       "..              ...  ...           ...            ...              ...   \n",
       "564         0.05549  ...         14.90          23.89            95.10   \n",
       "565         0.07005  ...         10.88          19.48            70.89   \n",
       "566         0.06317  ...         17.80          28.03           113.80   \n",
       "567         0.06121  ...         15.80          16.93           103.10   \n",
       "568         0.06183  ...         22.69          21.84           152.10   \n",
       "\n",
       "     area_worst  smoothness_worst  compactness_worst  concavity_worst  \\\n",
       "0         549.1            0.1385             0.1266          0.12420   \n",
       "1         424.8            0.1213             0.2515          0.19160   \n",
       "2         471.4            0.1369             0.1482          0.10670   \n",
       "3         434.0            0.1367             0.1822          0.08669   \n",
       "4         819.1            0.1126             0.1737          0.13620   \n",
       "..          ...               ...                ...              ...   \n",
       "564       687.6            0.1282             0.1965          0.18760   \n",
       "565       357.1            0.1360             0.1636          0.07162   \n",
       "566       973.1            0.1301             0.3299          0.36300   \n",
       "567       749.9            0.1347             0.1478          0.13730   \n",
       "568      1535.0            0.1192             0.2840          0.40240   \n",
       "\n",
       "     points_worst  symmetry_worst  dimension_worst  \n",
       "0         0.09391          0.2827          0.06771  \n",
       "1         0.07926          0.2940          0.07587  \n",
       "2         0.07431          0.2998          0.07881  \n",
       "3         0.08611          0.2102          0.06784  \n",
       "4         0.08178          0.2487          0.06766  \n",
       "..            ...             ...              ...  \n",
       "564       0.10450          0.2235          0.06925  \n",
       "565       0.04074          0.2434          0.08488  \n",
       "566       0.12260          0.3175          0.09772  \n",
       "567       0.10690          0.2606          0.07810  \n",
       "568       0.19660          0.2730          0.08666  \n",
       "\n",
       "[569 rows x 30 columns]>"
      ]
     },
     "execution_count": 41,
     "metadata": {},
     "output_type": "execute_result"
    }
   ],
   "source": [
    "X = data.drop(['id','diagnosis'], axis=1)\n",
    "X.head"
   ]
  },
  {
   "cell_type": "code",
   "execution_count": 42,
   "metadata": {},
   "outputs": [
    {
     "data": {
      "text/plain": [
       "0    B\n",
       "1    B\n",
       "2    B\n",
       "3    B\n",
       "4    B\n",
       "Name: diagnosis, dtype: object"
      ]
     },
     "execution_count": 42,
     "metadata": {},
     "output_type": "execute_result"
    }
   ],
   "source": [
    "y = data.diagnosis\n",
    "y.head()"
   ]
  },
  {
   "cell_type": "code",
   "execution_count": 43,
   "metadata": {},
   "outputs": [],
   "source": [
    "#preapring training and testing data\n",
    "from sklearn.model_selection import train_test_split\n",
    "X_train,X_test,y_train,y_test=train_test_split(X,y,test_size=0.30,random_state=2)"
   ]
  },
  {
   "cell_type": "code",
   "execution_count": 44,
   "metadata": {},
   "outputs": [
    {
     "name": "stdout",
     "output_type": "stream",
     "text": [
      "(398, 30)\n",
      "(171, 30)\n",
      "(398,)\n",
      "(171,)\n"
     ]
    }
   ],
   "source": [
    "print(X_train.shape)\n",
    "print(X_test.shape)\n",
    "print(y_train.shape)\n",
    "print(y_test.shape)"
   ]
  },
  {
   "cell_type": "code",
   "execution_count": 45,
   "metadata": {},
   "outputs": [
    {
     "data": {
      "text/plain": [
       "array([[ 0.0654828 , -1.35518629,  0.03134589, ..., -0.04689041,\n",
       "         0.3683001 , -1.22806684],\n",
       "       [-0.77639967, -0.1225787 , -0.77192193, ..., -0.39868555,\n",
       "         0.3648074 , -0.83648993],\n",
       "       [-0.84936282, -1.05782571, -0.87563499, ..., -1.03880764,\n",
       "        -1.65746674, -0.54459715],\n",
       "       ...,\n",
       "       [-0.88303812, -0.35998755, -0.85204535, ..., -0.1993652 ,\n",
       "        -0.98162901, -0.01313199],\n",
       "       [ 1.07854805,  0.213151  ,  0.91351698, ...,  0.10120204,\n",
       "         3.54665843, -1.20658794],\n",
       "       [-0.26846391, -0.90674734, -0.26149099, ..., -0.22037015,\n",
       "         1.74267813,  0.1823811 ]])"
      ]
     },
     "execution_count": 45,
     "metadata": {},
     "output_type": "execute_result"
    }
   ],
   "source": [
    "from sklearn.preprocessing import StandardScaler\n",
    "scaler = StandardScaler()\n",
    "scaled_X_train = scaler.fit_transform(X_train)\n",
    "scaled_X_train"
   ]
  },
  {
   "cell_type": "code",
   "execution_count": 46,
   "metadata": {},
   "outputs": [],
   "source": [
    "from sklearn.preprocessing import StandardScaler\n",
    "scaler = StandardScaler()\n",
    "\n",
    "scaled_X_train = pd.DataFrame(scaler.fit_transform(X_train), columns = X_train.columns)\n",
    "scaled_X_train\n",
    "\n",
    "scaled_X_test = pd.DataFrame(scaler.transform(X_test), columns = X_test.columns)"
   ]
  },
  {
   "cell_type": "code",
   "execution_count": 49,
   "metadata": {},
   "outputs": [
    {
     "data": {
      "text/html": [
       "<div>\n",
       "<style scoped>\n",
       "    .dataframe tbody tr th:only-of-type {\n",
       "        vertical-align: middle;\n",
       "    }\n",
       "\n",
       "    .dataframe tbody tr th {\n",
       "        vertical-align: top;\n",
       "    }\n",
       "\n",
       "    .dataframe thead th {\n",
       "        text-align: right;\n",
       "    }\n",
       "</style>\n",
       "<table border=\"1\" class=\"dataframe\">\n",
       "  <thead>\n",
       "    <tr style=\"text-align: right;\">\n",
       "      <th></th>\n",
       "      <th>radius_mean</th>\n",
       "      <th>texture_mean</th>\n",
       "      <th>perimeter_mean</th>\n",
       "      <th>area_mean</th>\n",
       "      <th>smoothness_mean</th>\n",
       "      <th>compactness_mean</th>\n",
       "      <th>concavity_mean</th>\n",
       "      <th>points_mean</th>\n",
       "      <th>symmetry_mean</th>\n",
       "      <th>dimension_mean</th>\n",
       "      <th>...</th>\n",
       "      <th>radius_worst</th>\n",
       "      <th>texture_worst</th>\n",
       "      <th>perimeter_worst</th>\n",
       "      <th>area_worst</th>\n",
       "      <th>smoothness_worst</th>\n",
       "      <th>compactness_worst</th>\n",
       "      <th>concavity_worst</th>\n",
       "      <th>points_worst</th>\n",
       "      <th>symmetry_worst</th>\n",
       "      <th>dimension_worst</th>\n",
       "    </tr>\n",
       "  </thead>\n",
       "  <tbody>\n",
       "    <tr>\n",
       "      <th>0</th>\n",
       "      <td>-0.820383</td>\n",
       "      <td>-0.173809</td>\n",
       "      <td>-0.864054</td>\n",
       "      <td>-0.772484</td>\n",
       "      <td>-0.839113</td>\n",
       "      <td>-1.115846</td>\n",
       "      <td>-0.895059</td>\n",
       "      <td>-0.803603</td>\n",
       "      <td>0.581700</td>\n",
       "      <td>-0.557191</td>\n",
       "      <td>...</td>\n",
       "      <td>-0.867791</td>\n",
       "      <td>-0.052852</td>\n",
       "      <td>-0.896889</td>\n",
       "      <td>-0.798979</td>\n",
       "      <td>-1.019902</td>\n",
       "      <td>-1.079349</td>\n",
       "      <td>-1.007702</td>\n",
       "      <td>-0.923140</td>\n",
       "      <td>0.358435</td>\n",
       "      <td>-0.918749</td>\n",
       "    </tr>\n",
       "    <tr>\n",
       "      <th>1</th>\n",
       "      <td>-0.141927</td>\n",
       "      <td>-0.792820</td>\n",
       "      <td>-0.198179</td>\n",
       "      <td>-0.230883</td>\n",
       "      <td>-1.152495</td>\n",
       "      <td>-0.871458</td>\n",
       "      <td>-0.875741</td>\n",
       "      <td>-0.842076</td>\n",
       "      <td>0.091697</td>\n",
       "      <td>-0.935263</td>\n",
       "      <td>...</td>\n",
       "      <td>-0.349774</td>\n",
       "      <td>-0.954952</td>\n",
       "      <td>-0.300309</td>\n",
       "      <td>-0.418776</td>\n",
       "      <td>-1.077035</td>\n",
       "      <td>-0.417112</td>\n",
       "      <td>-0.746220</td>\n",
       "      <td>-0.800681</td>\n",
       "      <td>0.438508</td>\n",
       "      <td>-0.516902</td>\n",
       "    </tr>\n",
       "    <tr>\n",
       "      <th>2</th>\n",
       "      <td>1.127255</td>\n",
       "      <td>-0.621604</td>\n",
       "      <td>1.062181</td>\n",
       "      <td>0.984540</td>\n",
       "      <td>-0.660692</td>\n",
       "      <td>0.192327</td>\n",
       "      <td>0.150940</td>\n",
       "      <td>0.302088</td>\n",
       "      <td>-0.436534</td>\n",
       "      <td>-0.788529</td>\n",
       "      <td>...</td>\n",
       "      <td>0.807410</td>\n",
       "      <td>-0.679606</td>\n",
       "      <td>0.724717</td>\n",
       "      <td>0.699342</td>\n",
       "      <td>-0.382650</td>\n",
       "      <td>-0.081638</td>\n",
       "      <td>0.551709</td>\n",
       "      <td>0.505600</td>\n",
       "      <td>-0.249256</td>\n",
       "      <td>-0.219070</td>\n",
       "    </tr>\n",
       "    <tr>\n",
       "      <th>3</th>\n",
       "      <td>-0.981224</td>\n",
       "      <td>0.993971</td>\n",
       "      <td>-1.003433</td>\n",
       "      <td>-0.874237</td>\n",
       "      <td>-1.236369</td>\n",
       "      <td>-0.830667</td>\n",
       "      <td>-0.999770</td>\n",
       "      <td>-1.171264</td>\n",
       "      <td>0.453118</td>\n",
       "      <td>-0.064110</td>\n",
       "      <td>...</td>\n",
       "      <td>-0.727843</td>\n",
       "      <td>0.754930</td>\n",
       "      <td>-0.758478</td>\n",
       "      <td>-0.715669</td>\n",
       "      <td>-0.641946</td>\n",
       "      <td>-0.689611</td>\n",
       "      <td>-1.066559</td>\n",
       "      <td>-1.382204</td>\n",
       "      <td>0.061024</td>\n",
       "      <td>-0.559531</td>\n",
       "    </tr>\n",
       "    <tr>\n",
       "      <th>4</th>\n",
       "      <td>0.574547</td>\n",
       "      <td>-1.058424</td>\n",
       "      <td>0.501265</td>\n",
       "      <td>0.422529</td>\n",
       "      <td>-0.242850</td>\n",
       "      <td>-0.490922</td>\n",
       "      <td>-0.513499</td>\n",
       "      <td>-0.165548</td>\n",
       "      <td>-0.384406</td>\n",
       "      <td>-0.662945</td>\n",
       "      <td>...</td>\n",
       "      <td>0.249706</td>\n",
       "      <td>-1.050791</td>\n",
       "      <td>0.202296</td>\n",
       "      <td>0.080185</td>\n",
       "      <td>-0.633156</td>\n",
       "      <td>-0.637230</td>\n",
       "      <td>-0.321219</td>\n",
       "      <td>-0.128562</td>\n",
       "      <td>-0.340767</td>\n",
       "      <td>-0.908518</td>\n",
       "    </tr>\n",
       "    <tr>\n",
       "      <th>...</th>\n",
       "      <td>...</td>\n",
       "      <td>...</td>\n",
       "      <td>...</td>\n",
       "      <td>...</td>\n",
       "      <td>...</td>\n",
       "      <td>...</td>\n",
       "      <td>...</td>\n",
       "      <td>...</td>\n",
       "      <td>...</td>\n",
       "      <td>...</td>\n",
       "      <td>...</td>\n",
       "      <td>...</td>\n",
       "      <td>...</td>\n",
       "      <td>...</td>\n",
       "      <td>...</td>\n",
       "      <td>...</td>\n",
       "      <td>...</td>\n",
       "      <td>...</td>\n",
       "      <td>...</td>\n",
       "      <td>...</td>\n",
       "      <td>...</td>\n",
       "    </tr>\n",
       "    <tr>\n",
       "      <th>166</th>\n",
       "      <td>-0.916888</td>\n",
       "      <td>-0.625994</td>\n",
       "      <td>-0.917171</td>\n",
       "      <td>-0.839925</td>\n",
       "      <td>0.729320</td>\n",
       "      <td>-0.615620</td>\n",
       "      <td>-0.815449</td>\n",
       "      <td>-0.720426</td>\n",
       "      <td>-0.457386</td>\n",
       "      <td>-0.048247</td>\n",
       "      <td>...</td>\n",
       "      <td>-0.857347</td>\n",
       "      <td>-0.007215</td>\n",
       "      <td>-0.877674</td>\n",
       "      <td>-0.777207</td>\n",
       "      <td>0.083204</td>\n",
       "      <td>-0.778482</td>\n",
       "      <td>-0.869224</td>\n",
       "      <td>-0.731329</td>\n",
       "      <td>-0.026197</td>\n",
       "      <td>-0.414593</td>\n",
       "    </tr>\n",
       "    <tr>\n",
       "      <th>167</th>\n",
       "      <td>-0.109758</td>\n",
       "      <td>-0.854282</td>\n",
       "      <td>-0.088121</td>\n",
       "      <td>-0.216093</td>\n",
       "      <td>0.195580</td>\n",
       "      <td>0.278202</td>\n",
       "      <td>-0.231850</td>\n",
       "      <td>-0.018971</td>\n",
       "      <td>-0.638096</td>\n",
       "      <td>0.250510</td>\n",
       "      <td>...</td>\n",
       "      <td>0.011585</td>\n",
       "      <td>-0.856071</td>\n",
       "      <td>0.034161</td>\n",
       "      <td>-0.163628</td>\n",
       "      <td>0.267788</td>\n",
       "      <td>0.433932</td>\n",
       "      <td>-0.114450</td>\n",
       "      <td>0.268179</td>\n",
       "      <td>-0.611011</td>\n",
       "      <td>0.960324</td>\n",
       "    </tr>\n",
       "    <tr>\n",
       "      <th>168</th>\n",
       "      <td>-0.694635</td>\n",
       "      <td>-0.531606</td>\n",
       "      <td>-0.732749</td>\n",
       "      <td>-0.666293</td>\n",
       "      <td>-0.553944</td>\n",
       "      <td>-0.896863</td>\n",
       "      <td>-0.839197</td>\n",
       "      <td>-0.948554</td>\n",
       "      <td>0.004817</td>\n",
       "      <td>-0.472587</td>\n",
       "      <td>...</td>\n",
       "      <td>-0.640114</td>\n",
       "      <td>-0.303858</td>\n",
       "      <td>-0.695427</td>\n",
       "      <td>-0.614186</td>\n",
       "      <td>-0.466152</td>\n",
       "      <td>-0.634876</td>\n",
       "      <td>-0.700811</td>\n",
       "      <td>-1.055439</td>\n",
       "      <td>-0.339337</td>\n",
       "      <td>-0.278182</td>\n",
       "    </tr>\n",
       "    <tr>\n",
       "      <th>169</th>\n",
       "      <td>2.215126</td>\n",
       "      <td>0.287157</td>\n",
       "      <td>2.328490</td>\n",
       "      <td>2.466473</td>\n",
       "      <td>-0.314523</td>\n",
       "      <td>1.496564</td>\n",
       "      <td>1.510580</td>\n",
       "      <td>1.555440</td>\n",
       "      <td>-0.433059</td>\n",
       "      <td>-0.241249</td>\n",
       "      <td>...</td>\n",
       "      <td>2.438746</td>\n",
       "      <td>0.257482</td>\n",
       "      <td>2.604231</td>\n",
       "      <td>2.664237</td>\n",
       "      <td>-0.343096</td>\n",
       "      <td>1.130187</td>\n",
       "      <td>1.220513</td>\n",
       "      <td>0.983564</td>\n",
       "      <td>-0.262125</td>\n",
       "      <td>0.140716</td>\n",
       "    </tr>\n",
       "    <tr>\n",
       "      <th>170</th>\n",
       "      <td>-0.621525</td>\n",
       "      <td>0.666905</td>\n",
       "      <td>-0.584446</td>\n",
       "      <td>-0.619262</td>\n",
       "      <td>-2.194813</td>\n",
       "      <td>-0.092136</td>\n",
       "      <td>-0.212902</td>\n",
       "      <td>-0.585500</td>\n",
       "      <td>-2.233215</td>\n",
       "      <td>0.373450</td>\n",
       "      <td>...</td>\n",
       "      <td>-0.823927</td>\n",
       "      <td>0.338108</td>\n",
       "      <td>-0.654594</td>\n",
       "      <td>-0.746618</td>\n",
       "      <td>-2.066315</td>\n",
       "      <td>0.240887</td>\n",
       "      <td>-0.055814</td>\n",
       "      <td>-0.186356</td>\n",
       "      <td>-1.180096</td>\n",
       "      <td>0.419792</td>\n",
       "    </tr>\n",
       "  </tbody>\n",
       "</table>\n",
       "<p>171 rows × 30 columns</p>\n",
       "</div>"
      ],
      "text/plain": [
       "     radius_mean  texture_mean  perimeter_mean  area_mean  smoothness_mean  \\\n",
       "0      -0.820383     -0.173809       -0.864054  -0.772484        -0.839113   \n",
       "1      -0.141927     -0.792820       -0.198179  -0.230883        -1.152495   \n",
       "2       1.127255     -0.621604        1.062181   0.984540        -0.660692   \n",
       "3      -0.981224      0.993971       -1.003433  -0.874237        -1.236369   \n",
       "4       0.574547     -1.058424        0.501265   0.422529        -0.242850   \n",
       "..           ...           ...             ...        ...              ...   \n",
       "166    -0.916888     -0.625994       -0.917171  -0.839925         0.729320   \n",
       "167    -0.109758     -0.854282       -0.088121  -0.216093         0.195580   \n",
       "168    -0.694635     -0.531606       -0.732749  -0.666293        -0.553944   \n",
       "169     2.215126      0.287157        2.328490   2.466473        -0.314523   \n",
       "170    -0.621525      0.666905       -0.584446  -0.619262        -2.194813   \n",
       "\n",
       "     compactness_mean  concavity_mean  points_mean  symmetry_mean  \\\n",
       "0           -1.115846       -0.895059    -0.803603       0.581700   \n",
       "1           -0.871458       -0.875741    -0.842076       0.091697   \n",
       "2            0.192327        0.150940     0.302088      -0.436534   \n",
       "3           -0.830667       -0.999770    -1.171264       0.453118   \n",
       "4           -0.490922       -0.513499    -0.165548      -0.384406   \n",
       "..                ...             ...          ...            ...   \n",
       "166         -0.615620       -0.815449    -0.720426      -0.457386   \n",
       "167          0.278202       -0.231850    -0.018971      -0.638096   \n",
       "168         -0.896863       -0.839197    -0.948554       0.004817   \n",
       "169          1.496564        1.510580     1.555440      -0.433059   \n",
       "170         -0.092136       -0.212902    -0.585500      -2.233215   \n",
       "\n",
       "     dimension_mean  ...  radius_worst  texture_worst  perimeter_worst  \\\n",
       "0         -0.557191  ...     -0.867791      -0.052852        -0.896889   \n",
       "1         -0.935263  ...     -0.349774      -0.954952        -0.300309   \n",
       "2         -0.788529  ...      0.807410      -0.679606         0.724717   \n",
       "3         -0.064110  ...     -0.727843       0.754930        -0.758478   \n",
       "4         -0.662945  ...      0.249706      -1.050791         0.202296   \n",
       "..              ...  ...           ...            ...              ...   \n",
       "166       -0.048247  ...     -0.857347      -0.007215        -0.877674   \n",
       "167        0.250510  ...      0.011585      -0.856071         0.034161   \n",
       "168       -0.472587  ...     -0.640114      -0.303858        -0.695427   \n",
       "169       -0.241249  ...      2.438746       0.257482         2.604231   \n",
       "170        0.373450  ...     -0.823927       0.338108        -0.654594   \n",
       "\n",
       "     area_worst  smoothness_worst  compactness_worst  concavity_worst  \\\n",
       "0     -0.798979         -1.019902          -1.079349        -1.007702   \n",
       "1     -0.418776         -1.077035          -0.417112        -0.746220   \n",
       "2      0.699342         -0.382650          -0.081638         0.551709   \n",
       "3     -0.715669         -0.641946          -0.689611        -1.066559   \n",
       "4      0.080185         -0.633156          -0.637230        -0.321219   \n",
       "..          ...               ...                ...              ...   \n",
       "166   -0.777207          0.083204          -0.778482        -0.869224   \n",
       "167   -0.163628          0.267788           0.433932        -0.114450   \n",
       "168   -0.614186         -0.466152          -0.634876        -0.700811   \n",
       "169    2.664237         -0.343096           1.130187         1.220513   \n",
       "170   -0.746618         -2.066315           0.240887        -0.055814   \n",
       "\n",
       "     points_worst  symmetry_worst  dimension_worst  \n",
       "0       -0.923140        0.358435        -0.918749  \n",
       "1       -0.800681        0.438508        -0.516902  \n",
       "2        0.505600       -0.249256        -0.219070  \n",
       "3       -1.382204        0.061024        -0.559531  \n",
       "4       -0.128562       -0.340767        -0.908518  \n",
       "..            ...             ...              ...  \n",
       "166     -0.731329       -0.026197        -0.414593  \n",
       "167      0.268179       -0.611011         0.960324  \n",
       "168     -1.055439       -0.339337        -0.278182  \n",
       "169      0.983564       -0.262125         0.140716  \n",
       "170     -0.186356       -1.180096         0.419792  \n",
       "\n",
       "[171 rows x 30 columns]"
      ]
     },
     "execution_count": 49,
     "metadata": {},
     "output_type": "execute_result"
    }
   ],
   "source": [
    "from sklearn.preprocessing import StandardScaler\n",
    "scaler = StandardScaler()\n",
    "scaled_X_train =pd. DataFrame(scaler.fit_transform(X_train),columns=X_train.columns)\n",
    "scaled_X_train\n",
    "scaled_X_test =pd. DataFrame(scaler.fit_transform(X_test),columns=X_test.columns)\n",
    "scaled_X_test"
   ]
  },
  {
   "cell_type": "code",
   "execution_count": 50,
   "metadata": {},
   "outputs": [
    {
     "data": {
      "text/plain": [
       "KNeighborsClassifier(algorithm='auto', leaf_size=30, metric='euclidean',\n",
       "                     metric_params=None, n_jobs=None, n_neighbors=6, p=2,\n",
       "                     weights='uniform')"
      ]
     },
     "execution_count": 50,
     "metadata": {},
     "output_type": "execute_result"
    }
   ],
   "source": [
    "# model Building :\n",
    "from sklearn.neighbors import KNeighborsClassifier\n",
    "knn=KNeighborsClassifier(n_neighbors=6,metric='euclidean')\n",
    "## apply the knn object on the dataset(Training phase) \n",
    "\n",
    "## syntax objectname.fit(input,output)\n",
    "knn.fit(scaled_X_train,y_train)"
   ]
  },
  {
   "cell_type": "code",
   "execution_count": 51,
   "metadata": {},
   "outputs": [
    {
     "data": {
      "text/plain": [
       "array(['B', 'B', 'B', 'M', 'B', 'M', 'B', 'M', 'B', 'B', 'B', 'M', 'B',\n",
       "       'M', 'B', 'M', 'M', 'B', 'M', 'B', 'B', 'B', 'B', 'B', 'B', 'B',\n",
       "       'B', 'M', 'B', 'B', 'B', 'B', 'B', 'B', 'B', 'B', 'B', 'M', 'B',\n",
       "       'M', 'M', 'B', 'M', 'B', 'B', 'B', 'B', 'M', 'B', 'B', 'M', 'M',\n",
       "       'M', 'M', 'M', 'B', 'B', 'B', 'M', 'M', 'B', 'M', 'B', 'B', 'B',\n",
       "       'M', 'M', 'B', 'B', 'B', 'B', 'B', 'M', 'B', 'M', 'M', 'B', 'B',\n",
       "       'M', 'B', 'B', 'M', 'M', 'B', 'B', 'B', 'M', 'M', 'B', 'B', 'M',\n",
       "       'B', 'M', 'B', 'B', 'B', 'B', 'B', 'M', 'B', 'M', 'M', 'M', 'B',\n",
       "       'B', 'B', 'B', 'B', 'B', 'M', 'B', 'M', 'B', 'M', 'B', 'B', 'B',\n",
       "       'B', 'B', 'B', 'B', 'M', 'B', 'B', 'B', 'M', 'M', 'M', 'B', 'B',\n",
       "       'M', 'M', 'M', 'M', 'M', 'B', 'B', 'B', 'B', 'B', 'B', 'M', 'B',\n",
       "       'B', 'M', 'M', 'B', 'B', 'B', 'B', 'B', 'M', 'M', 'B', 'B', 'M',\n",
       "       'B', 'M', 'B', 'B', 'B', 'B', 'M', 'M', 'B', 'B', 'B', 'M', 'M',\n",
       "       'B', 'B', 'B', 'B', 'B', 'B', 'B', 'M', 'B', 'B', 'B', 'M', 'B',\n",
       "       'M', 'B', 'B', 'B', 'B', 'B', 'B', 'B', 'B', 'B', 'B', 'M', 'B',\n",
       "       'M', 'B', 'B', 'B', 'M', 'B', 'B', 'M', 'B', 'M', 'B', 'B', 'B',\n",
       "       'B', 'B', 'B', 'B', 'M', 'B', 'B', 'B', 'B', 'B', 'B', 'B', 'B',\n",
       "       'B', 'M', 'M', 'B', 'B', 'M', 'B', 'B', 'B', 'B', 'B', 'B', 'M',\n",
       "       'M', 'M', 'B', 'B', 'M', 'B', 'B', 'B', 'B', 'B', 'B', 'M', 'B',\n",
       "       'B', 'M', 'M', 'B', 'B', 'B', 'B', 'B', 'M', 'M', 'B', 'B', 'M',\n",
       "       'M', 'B', 'B', 'M', 'B', 'B', 'M', 'B', 'B', 'B', 'M', 'M', 'B',\n",
       "       'M', 'B', 'B', 'M', 'B', 'B', 'B', 'B', 'B', 'M', 'B', 'B', 'M',\n",
       "       'B', 'M', 'B', 'M', 'B', 'B', 'B', 'B', 'M', 'M', 'B', 'B', 'B',\n",
       "       'M', 'B', 'M', 'B', 'M', 'B', 'M', 'M', 'B', 'B', 'B', 'B', 'M',\n",
       "       'B', 'B', 'M', 'M', 'B', 'B', 'M', 'B', 'M', 'B', 'B', 'B', 'B',\n",
       "       'B', 'B', 'B', 'B', 'B', 'M', 'B', 'M', 'B', 'M', 'M', 'B', 'M',\n",
       "       'B', 'B', 'B', 'B', 'B', 'M', 'B', 'M', 'B', 'M', 'M', 'B', 'B',\n",
       "       'B', 'B', 'M', 'B', 'B', 'B', 'B', 'M', 'B', 'M', 'B', 'B', 'B',\n",
       "       'B', 'M', 'B', 'B', 'B', 'M', 'M', 'M', 'B', 'B', 'M', 'M', 'B',\n",
       "       'B', 'B', 'B', 'B', 'B', 'B', 'M', 'B', 'B', 'M', 'M', 'M', 'B',\n",
       "       'M', 'B', 'B', 'M', 'M', 'B', 'M', 'B'], dtype=object)"
      ]
     },
     "execution_count": 51,
     "metadata": {},
     "output_type": "execute_result"
    }
   ],
   "source": [
    "# prediction on the data\n",
    "# predict function ----> gives the predicted values\n",
    "# syntax:object nam.predict(input)\n",
    "y_train_pred=knn.predict(scaled_X_train)\n",
    "y_train_pred"
   ]
  },
  {
   "cell_type": "code",
   "execution_count": 52,
   "metadata": {},
   "outputs": [
    {
     "name": "stdout",
     "output_type": "stream",
     "text": [
      "              precision    recall  f1-score   support\n",
      "\n",
      "           B       0.97      1.00      0.98       257\n",
      "           M       1.00      0.94      0.97       141\n",
      "\n",
      "    accuracy                           0.98       398\n",
      "   macro avg       0.98      0.97      0.97       398\n",
      "weighted avg       0.98      0.98      0.98       398\n",
      "\n"
     ]
    }
   ],
   "source": [
    "# chect the accuracy , classification report \n",
    "from sklearn.metrics import classification_report\n",
    "print(classification_report(y_train,y_train_pred))"
   ]
  },
  {
   "cell_type": "code",
   "execution_count": 53,
   "metadata": {},
   "outputs": [
    {
     "data": {
      "text/plain": [
       "[0.9473684210526315,\n",
       " 0.9239766081871345,\n",
       " 0.935672514619883,\n",
       " 0.9298245614035088,\n",
       " 0.9473684210526315,\n",
       " 0.935672514619883,\n",
       " 0.9473684210526315,\n",
       " 0.9415204678362573,\n",
       " 0.9473684210526315,\n",
       " 0.9298245614035088,\n",
       " 0.9415204678362573,\n",
       " 0.9298245614035088,\n",
       " 0.935672514619883,\n",
       " 0.9239766081871345,\n",
       " 0.9239766081871345,\n",
       " 0.9239766081871345,\n",
       " 0.9473684210526315,\n",
       " 0.9239766081871345,\n",
       " 0.935672514619883]"
      ]
     },
     "execution_count": 53,
     "metadata": {},
     "output_type": "execute_result"
    }
   ],
   "source": [
    "from sklearn.metrics import accuracy_score\n",
    "# Check for optimum k-value\n",
    "# Build the models with multiple k values--> error\n",
    "scores=[]\n",
    "for k in range(1,20):\n",
    "    knn_model=KNeighborsClassifier(n_neighbors=k)\n",
    "    knn_model.fit(scaled_X_train, y_train)\n",
    "    pred_test=knn_model.predict(scaled_X_test)\n",
    "    scores.append(accuracy_score(y_test,pred_test))\n",
    "scores"
   ]
  },
  {
   "cell_type": "code",
   "execution_count": 54,
   "metadata": {},
   "outputs": [
    {
     "data": {
      "text/plain": [
       "[<matplotlib.lines.Line2D at 0x2477acb9ec8>]"
      ]
     },
     "execution_count": 54,
     "metadata": {},
     "output_type": "execute_result"
    },
    {
     "data": {
      "image/png": "[encoded data removed]",
      "text/plain": [
       "<Figure size 432x288 with 1 Axes>"
      ]
     },
     "metadata": {
      "needs_background": "light"
     },
     "output_type": "display_data"
    }
   ],
   "source": [
    "#plot of k values and scores\n",
    "plt.plot(range(1,20),scores,marker='o',markerfacecolor='r',linestyle='--')"
   ]
  },
  {
   "cell_type": "code",
   "execution_count": 55,
   "metadata": {},
   "outputs": [
    {
     "data": {
      "text/plain": [
       "KNeighborsClassifier(algorithm='auto', leaf_size=30, metric='euclidean',\n",
       "                     metric_params=None, n_jobs=None, n_neighbors=7, p=2,\n",
       "                     weights='uniform')"
      ]
     },
     "execution_count": 55,
     "metadata": {},
     "output_type": "execute_result"
    }
   ],
   "source": [
    "# Optimum k value is 7\n",
    "final_model = KNeighborsClassifier(n_neighbors=7,metric='euclidean')\n",
    "final_model.fit(scaled_X_train,y_train)"
   ]
  },
  {
   "cell_type": "code",
   "execution_count": 56,
   "metadata": {},
   "outputs": [
    {
     "data": {
      "text/plain": [
       "array(['B', 'B', 'B', 'M', 'B', 'M', 'B', 'M', 'B', 'B', 'B', 'M', 'B',\n",
       "       'M', 'B', 'M', 'M', 'B', 'M', 'B', 'B', 'B', 'B', 'B', 'B', 'B',\n",
       "       'B', 'M', 'B', 'B', 'B', 'B', 'B', 'B', 'B', 'B', 'B', 'M', 'B',\n",
       "       'M', 'M', 'B', 'M', 'B', 'B', 'B', 'B', 'M', 'B', 'B', 'M', 'M',\n",
       "       'M', 'M', 'M', 'B', 'B', 'B', 'M', 'M', 'B', 'M', 'B', 'B', 'M',\n",
       "       'M', 'M', 'B', 'B', 'B', 'B', 'B', 'M', 'B', 'M', 'M', 'B', 'B',\n",
       "       'M', 'B', 'B', 'M', 'M', 'B', 'B', 'B', 'M', 'M', 'B', 'B', 'M',\n",
       "       'B', 'M', 'B', 'B', 'B', 'B', 'B', 'M', 'B', 'M', 'M', 'M', 'B',\n",
       "       'B', 'B', 'B', 'B', 'B', 'M', 'B', 'M', 'B', 'M', 'B', 'B', 'B',\n",
       "       'B', 'B', 'B', 'B', 'M', 'B', 'B', 'B', 'M', 'M', 'M', 'B', 'B',\n",
       "       'M', 'M', 'M', 'M', 'M', 'B', 'B', 'B', 'B', 'B', 'B', 'M', 'B',\n",
       "       'B', 'M', 'M', 'B', 'B', 'B', 'B', 'B', 'M', 'M', 'B', 'B', 'M',\n",
       "       'B', 'M', 'B', 'B', 'B', 'B', 'M', 'M', 'B', 'B', 'B', 'M', 'M',\n",
       "       'B', 'B', 'B', 'B', 'B', 'B', 'B', 'M', 'B', 'B', 'B', 'M', 'B',\n",
       "       'M', 'B', 'B', 'B', 'B', 'B', 'B', 'B', 'B', 'B', 'B', 'M', 'B',\n",
       "       'M', 'B', 'B', 'B', 'M', 'B', 'B', 'M', 'B', 'M', 'B', 'B', 'B',\n",
       "       'B', 'B', 'B', 'B', 'M', 'B', 'B', 'B', 'B', 'B', 'B', 'B', 'B',\n",
       "       'B', 'M', 'M', 'B', 'B', 'M', 'B', 'B', 'B', 'B', 'B', 'B', 'M',\n",
       "       'M', 'M', 'B', 'B', 'M', 'B', 'B', 'B', 'B', 'B', 'B', 'M', 'B',\n",
       "       'B', 'M', 'M', 'B', 'B', 'B', 'B', 'B', 'M', 'M', 'B', 'B', 'M',\n",
       "       'M', 'B', 'B', 'M', 'B', 'B', 'M', 'B', 'B', 'B', 'M', 'M', 'B',\n",
       "       'M', 'B', 'B', 'M', 'B', 'B', 'B', 'B', 'B', 'M', 'M', 'B', 'M',\n",
       "       'B', 'M', 'B', 'M', 'B', 'B', 'B', 'B', 'M', 'M', 'B', 'B', 'B',\n",
       "       'M', 'B', 'M', 'B', 'M', 'B', 'M', 'M', 'B', 'B', 'B', 'B', 'M',\n",
       "       'B', 'B', 'M', 'M', 'B', 'B', 'M', 'B', 'M', 'B', 'B', 'B', 'B',\n",
       "       'B', 'B', 'B', 'B', 'B', 'M', 'B', 'M', 'B', 'M', 'M', 'B', 'M',\n",
       "       'B', 'B', 'B', 'B', 'B', 'M', 'B', 'M', 'B', 'M', 'M', 'B', 'B',\n",
       "       'B', 'B', 'M', 'B', 'B', 'B', 'B', 'M', 'B', 'M', 'B', 'B', 'B',\n",
       "       'B', 'M', 'B', 'B', 'B', 'M', 'M', 'M', 'B', 'B', 'M', 'M', 'B',\n",
       "       'B', 'B', 'B', 'B', 'B', 'B', 'M', 'B', 'B', 'M', 'M', 'M', 'B',\n",
       "       'M', 'B', 'B', 'M', 'M', 'B', 'M', 'B'], dtype=object)"
      ]
     },
     "execution_count": 56,
     "metadata": {},
     "output_type": "execute_result"
    }
   ],
   "source": [
    "#prediction on training data\n",
    "final_train_pred= final_model.predict(scaled_X_train)\n",
    "final_train_pred"
   ]
  },
  {
   "cell_type": "code",
   "execution_count": 57,
   "metadata": {},
   "outputs": [
    {
     "data": {
      "text/plain": [
       "<matplotlib.axes._subplots.AxesSubplot at 0x2477ad85e08>"
      ]
     },
     "execution_count": 57,
     "metadata": {},
     "output_type": "execute_result"
    },
    {
     "data": {
      "image/png": "[encoded data removed]",
      "text/plain": [
       "<Figure size 432x288 with 2 Axes>"
      ]
     },
     "metadata": {
      "needs_background": "light"
     },
     "output_type": "display_data"
    }
   ],
   "source": [
    "from sklearn.metrics import confusion_matrix\n",
    "sns.heatmap(confusion_matrix(y_train,final_train_pred),annot=True,fmt='d',annot_kws={'size':10,'va':'center','ha':'right'})"
   ]
  },
  {
   "cell_type": "code",
   "execution_count": 58,
   "metadata": {},
   "outputs": [
    {
     "name": "stdout",
     "output_type": "stream",
     "text": [
      "              precision    recall  f1-score   support\n",
      "\n",
      "           B       0.97      1.00      0.99       257\n",
      "           M       1.00      0.95      0.97       141\n",
      "\n",
      "    accuracy                           0.98       398\n",
      "   macro avg       0.99      0.98      0.98       398\n",
      "weighted avg       0.98      0.98      0.98       398\n",
      "\n"
     ]
    }
   ],
   "source": [
    "# classification report\n",
    "# Precision-->ppv-->out of the positive predicted values,how many truly positive\n",
    "print(classification_report(y_train,final_train_pred))"
   ]
  },
  {
   "cell_type": "code",
   "execution_count": 59,
   "metadata": {},
   "outputs": [
    {
     "data": {
      "text/plain": [
       "array(['B', 'B', 'M', 'B', 'B', 'B', 'B', 'M', 'B', 'M', 'M', 'B', 'M',\n",
       "       'B', 'B', 'B', 'B', 'B', 'B', 'B', 'B', 'M', 'B', 'M', 'B', 'M',\n",
       "       'M', 'B', 'B', 'B', 'M', 'B', 'B', 'M', 'M', 'B', 'M', 'M', 'M',\n",
       "       'M', 'B', 'M', 'B', 'B', 'M', 'B', 'B', 'B', 'B', 'M', 'B', 'M',\n",
       "       'B', 'M', 'M', 'M', 'B', 'M', 'B', 'B', 'B', 'M', 'B', 'M', 'M',\n",
       "       'M', 'M', 'B', 'M', 'M', 'M', 'B', 'B', 'B', 'B', 'B', 'B', 'B',\n",
       "       'B', 'B', 'B', 'B', 'B', 'B', 'M', 'B', 'M', 'M', 'M', 'B', 'B',\n",
       "       'B', 'M', 'B', 'B', 'B', 'M', 'B', 'M', 'B', 'B', 'M', 'B', 'M',\n",
       "       'M', 'B', 'M', 'B', 'M', 'B', 'M', 'B', 'M', 'B', 'B', 'B', 'B',\n",
       "       'B', 'M', 'B', 'B', 'B', 'B', 'B', 'B', 'B', 'M', 'B', 'B', 'M',\n",
       "       'B', 'M', 'B', 'B', 'B', 'B', 'B', 'M', 'M', 'M', 'B', 'B', 'B',\n",
       "       'M', 'M', 'M', 'B', 'B', 'M', 'B', 'B', 'M', 'B', 'M', 'B', 'B',\n",
       "       'B', 'B', 'B', 'B', 'B', 'B', 'B', 'M', 'B', 'M', 'B', 'B', 'B',\n",
       "       'M', 'B'], dtype=object)"
      ]
     },
     "execution_count": 59,
     "metadata": {},
     "output_type": "execute_result"
    }
   ],
   "source": [
    "#prediction on test Data\n",
    "final_test_pred=final_model.predict(scaled_X_test)\n",
    "final_test_pred"
   ]
  },
  {
   "cell_type": "code",
   "execution_count": 60,
   "metadata": {},
   "outputs": [
    {
     "data": {
      "text/plain": [
       "array(['B', 'B', 'M', 'B', 'B', 'B', 'B', 'M', 'B', 'M', 'M', 'B', 'M',\n",
       "       'B', 'B', 'B', 'B', 'B', 'B', 'B', 'B', 'M', 'B', 'M', 'B', 'M',\n",
       "       'M', 'B', 'B', 'B', 'M', 'B', 'B', 'M', 'M', 'B', 'M', 'M', 'M',\n",
       "       'M', 'B', 'M', 'B', 'B', 'M', 'B', 'B', 'B', 'B', 'M', 'B', 'M',\n",
       "       'B', 'M', 'M', 'M', 'B', 'M', 'B', 'B', 'B', 'M', 'B', 'M', 'M',\n",
       "       'M', 'M', 'B', 'M', 'M', 'M', 'B', 'B', 'B', 'B', 'B', 'B', 'B',\n",
       "       'B', 'B', 'B', 'B', 'B', 'B', 'M', 'B', 'M', 'M', 'M', 'B', 'B',\n",
       "       'B', 'M', 'B', 'B', 'B', 'M', 'B', 'M', 'B', 'B', 'M', 'B', 'M',\n",
       "       'M', 'B', 'M', 'B', 'M', 'B', 'M', 'B', 'M', 'B', 'B', 'B', 'B',\n",
       "       'B', 'M', 'B', 'B', 'B', 'B', 'B', 'B', 'B', 'M', 'B', 'B', 'M',\n",
       "       'B', 'M', 'B', 'B', 'B', 'B', 'B', 'M', 'M', 'M', 'B', 'B', 'B',\n",
       "       'M', 'M', 'M', 'B', 'B', 'M', 'B', 'B', 'M', 'B', 'M', 'B', 'B',\n",
       "       'B', 'B', 'B', 'B', 'B', 'B', 'B', 'M', 'B', 'M', 'B', 'B', 'B',\n",
       "       'M', 'B'], dtype=object)"
      ]
     },
     "execution_count": 60,
     "metadata": {},
     "output_type": "execute_result"
    }
   ],
   "source": [
    "#prediction on test Data\n",
    "final_test_pred=final_model.predict(scaled_X_test)\n",
    "final_test_pred"
   ]
  },
  {
   "cell_type": "code",
   "execution_count": 61,
   "metadata": {},
   "outputs": [
    {
     "name": "stdout",
     "output_type": "stream",
     "text": [
      "              precision    recall  f1-score   support\n",
      "\n",
      "           B       0.92      1.00      0.96       100\n",
      "           M       1.00      0.87      0.93        71\n",
      "\n",
      "    accuracy                           0.95       171\n",
      "   macro avg       0.96      0.94      0.94       171\n",
      "weighted avg       0.95      0.95      0.95       171\n",
      "\n"
     ]
    }
   ],
   "source": [
    "print(classification_report(y_test,final_test_pred))"
   ]
  },
  {
   "cell_type": "code",
   "execution_count": null,
   "metadata": {},
   "outputs": [],
   "source": []
  }
 ],
 "metadata": {
  "kernelspec": {
   "display_name": "Python 3",
   "language": "python",
   "name": "python3"
  },
  "language_info": {
   "codemirror_mode": {
    "name": "ipython",
    "version": 3
   },
   "file_extension": ".py",
   "mimetype": "text/x-python",
   "name": "python",
   "nbconvert_exporter": "python",
   "pygments_lexer": "ipython3",
   "version": "3.7.6"
  }
 },
 "nbformat": 4,
 "nbformat_minor": 4
}
