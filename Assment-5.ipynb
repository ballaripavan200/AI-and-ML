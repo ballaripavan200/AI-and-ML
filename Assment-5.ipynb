{
 "cells": [
  {
   "cell_type": "code",
   "execution_count": 2,
   "metadata": {},
   "outputs": [
    {
     "ename": "SyntaxError",
     "evalue": "invalid syntax (<ipython-input-2-c73de5eb019e>, line 13)",
     "output_type": "error",
     "traceback": [
      "\u001b[1;36m  File \u001b[1;32m\"<ipython-input-2-c73de5eb019e>\"\u001b[1;36m, line \u001b[1;32m13\u001b[0m\n\u001b[1;33m    you need another password yes(or)no   :yes\u001b[0m\n\u001b[1;37m           ^\u001b[0m\n\u001b[1;31mSyntaxError\u001b[0m\u001b[1;31m:\u001b[0m invalid syntax\n"
     ]
    }
   ],
   "source": [
    "import random\n",
    "list1=[\"own\",'consist','jog','peep','deliver','weight','tric','agree','detect']\n",
    "list2=[\"current\",\"morning\",\"monkey\",\"example\",'snakes','corona','cat','woman','pig','error']\n",
    "list3=[\"/\",'?','@','$','%','^','&','<','>','?']\n",
    "while True:\n",
    "    st=random.choice(list1)+random.choice(list2)+random.choice(list3)+str(random.randint(0,100))\n",
    "    print(st)\n",
    "    s=input(\"you need another password yes(or)no   :\")\n",
    "    s=s.lower()\n",
    "    if s=='no':\n",
    "        break\n",
    "ownmorning<36\n",
    "you need another password yes(or)no   :yes\n",
    "jogwoman%15\n",
    "you need another password yes(or)no   :yes\n",
    "consistsnakes^13\n",
    "you need another password yes(or)no   :no"
   ]
  },
  {
   "cell_type": "code",
   "execution_count": null,
   "metadata": {},
   "outputs": [],
   "source": []
  }
 ],
 "metadata": {
  "kernelspec": {
   "display_name": "Python 3",
   "language": "python",
   "name": "python3"
  },
  "language_info": {
   "codemirror_mode": {
    "name": "ipython",
    "version": 3
   },
   "file_extension": ".py",
   "mimetype": "text/x-python",
   "name": "python",
   "nbconvert_exporter": "python",
   "pygments_lexer": "ipython3",
   "version": "3.7.6"
  }
 },
 "nbformat": 4,
 "nbformat_minor": 4
}
