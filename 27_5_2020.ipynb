{
  "nbformat": 4,
  "nbformat_minor": 0,
  "metadata": {
    "colab": {
      "name": "27-5-2020",
      "provenance": [],
      "authorship_tag": "ABX9TyOR7f/9rGlLWEpOpHo8/eoz",
      "include_colab_link": true
    },
    "kernelspec": {
      "name": "python3",
      "display_name": "Python 3"
    }
  },
  "cells": [
    {
      "cell_type": "markdown",
      "metadata": {
        "id": "view-in-github",
        "colab_type": "text"
      },
      "source": [
        "<a href=\"https://colab.research.google.com/github/ballaripavan200/AI-and-ML/blob/master/27_5_2020.ipynb\" target=\"_parent\"><img src=\"https://colab.research.google.com/assets/colab-badge.svg\" alt=\"Open In Colab\"/></a>"
      ]
    },
    {
      "cell_type": "code",
      "metadata": {
        "id": "Ys65GidXW9Fo",
        "colab_type": "code",
        "colab": {}
      },
      "source": [
        ""
      ],
      "execution_count": 0,
      "outputs": []
    },
    {
      "cell_type": "markdown",
      "metadata": {
        "id": "F9mOchESXJ1h",
        "colab_type": "text"
      },
      "source": [
        "- **python programming**\n",
        "- *pythin programming*"
      ]
    },
    {
      "cell_type": "markdown",
      "metadata": {
        "id": "Mz8oklIqXInb",
        "colab_type": "text"
      },
      "source": [
        ""
      ]
    },
    {
      "cell_type": "markdown",
      "metadata": {
        "id": "eJeHDv-kYWqg",
        "colab_type": "text"
      },
      "source": [
        "[click here](https://www.google.com/search?sxsrf=ALeKk01hhHieA5xq4ebVEDYq_7pNzow9EQ%3A1590570296975&source=hp&ei=OC3OXtyXOfCC4-EPwtaY-A0&q=introduction+to+python&oq=introduction+&gs_lcp=CgZwc3ktYWIQARgAMgUIABCRAjIFCAAQkQIyBAgAEEMyBAgAEEMyAggAMgIIADICCAAyAggAMgIIADICCAA6BAgjECc6BQgAEIMBOgYIABAKEEM6CAgAEIMBEJECULcMWMlRYKFqaAJwAHgAgAHnA4gBqySSAQkwLjEuNy40LjOYAQCgAQGqAQdnd3Mtd2l6&sclient=psy-ab)"
      ]
    },
    {
      "cell_type": "code",
      "metadata": {
        "id": "9Ct6iCM4biZ5",
        "colab_type": "code",
        "colab": {}
      },
      "source": [
        ""
      ],
      "execution_count": 0,
      "outputs": []
    },
    {
      "cell_type": "markdown",
      "metadata": {
        "id": "CZwcf2XsYUzR",
        "colab_type": "text"
      },
      "source": [
        ""
      ]
    },
    {
      "cell_type": "markdown",
      "metadata": {
        "id": "cRt8VQvLZ51s",
        "colab_type": "text"
      },
      "source": [
        "[image]()"
      ]
    },
    {
      "cell_type": "code",
      "metadata": {
        "id": "9nGf1StEaTFW",
        "colab_type": "code",
        "colab": {}
      },
      "source": [
        ""
      ],
      "execution_count": 0,
      "outputs": []
    },
    {
      "cell_type": "markdown",
      "metadata": {
        "id": "d3qLuDGmdG29",
        "colab_type": "text"
      },
      "source": [
        "1. Different paradigms\n",
        "2. interpreted pl\n",
        "3. open source\n",
        "4. object Oriented pl"
      ]
    },
    {
      "cell_type": "markdown",
      "metadata": {
        "id": "zDUIam_adFAF",
        "colab_type": "text"
      },
      "source": [
        ""
      ]
    },
    {
      "cell_type": "markdown",
      "metadata": {
        "id": "sby0Idhje0TF",
        "colab_type": "text"
      },
      "source": [
        "# numeric Data types:\n",
        "1. int\n",
        "2. float\n",
        "3. complex"
      ]
    },
    {
      "cell_type": "code",
      "metadata": {
        "id": "n7WsBlWzfDPF",
        "colab_type": "code",
        "colab": {
          "base_uri": "https://localhost:8080/",
          "height": 34
        },
        "outputId": "95829301-9a36-4924-f3c9-ef70dc9e7271"
      },
      "source": [
        "a = 10 #integer\n",
        "b = 12.5 #float\n",
        "c = 12+3j #complex number\n",
        "\n",
        "print(type(a),type(b),type(c))\n"
      ],
      "execution_count": 1,
      "outputs": [
        {
          "output_type": "stream",
          "text": [
            "<class 'int'> <class 'float'> <class 'complex'>\n"
          ],
          "name": "stdout"
        }
      ]
    },
    {
      "cell_type": "code",
      "metadata": {
        "id": "jP76NQUOfAsZ",
        "colab_type": "code",
        "colab": {
          "base_uri": "https://localhost:8080/",
          "height": 67
        },
        "outputId": "939024cb-0a43-402d-f6af-68ad8e383c0f"
      },
      "source": [
        "c1 = 3+2j\n",
        "c2 = complex(1,5)\n",
        "print(c1+c2)\n",
        "print(c2.real)#real part of complex number\n",
        "print(c2.imag)#imiganary part of complex number"
      ],
      "execution_count": 2,
      "outputs": [
        {
          "output_type": "stream",
          "text": [
            "(4+7j)\n",
            "1.0\n",
            "5.0\n"
          ],
          "name": "stdout"
        }
      ]
    },
    {
      "cell_type": "code",
      "metadata": {
        "id": "6Z0E02NchghI",
        "colab_type": "code",
        "colab": {
          "base_uri": "https://localhost:8080/",
          "height": 84
        },
        "outputId": "6e3b92c3-3763-4ea2-d643-e175312b2cf8"
      },
      "source": [
        "a = int(input(\"enter the value of a :\"))\n",
        "b = int(input(\"enter the value of b :\"))\n",
        "print(a+b)\n",
        "print(a-b)"
      ],
      "execution_count": 3,
      "outputs": [
        {
          "output_type": "stream",
          "text": [
            "enter the value of a :5\n",
            "enter the value of b :7\n",
            "12\n",
            "-2\n"
          ],
          "name": "stdout"
        }
      ]
    },
    {
      "cell_type": "code",
      "metadata": {
        "id": "Ps42INuCmCJy",
        "colab_type": "code",
        "colab": {
          "base_uri": "https://localhost:8080/",
          "height": 134
        },
        "outputId": "5fb1f30c-9d18-4836-8aef-732891df3422"
      },
      "source": [
        "a = int(input(\"enter the value of a :\"))\n",
        "b = int(input(\"enter the value of b :\"))\n",
        "print(a+b)\n",
        "print(a-b)\n",
        "print(a*b)\n",
        "print(a/b)\n",
        "print(a*2*b)"
      ],
      "execution_count": 5,
      "outputs": [
        {
          "output_type": "stream",
          "text": [
            "enter the value of a :2\n",
            "enter the value of b :3\n",
            "5\n",
            "-1\n",
            "6\n",
            "0.6666666666666666\n",
            "8\n"
          ],
          "name": "stdout"
        }
      ]
    },
    {
      "cell_type": "code",
      "metadata": {
        "id": "BorsrW6dnh7C",
        "colab_type": "code",
        "colab": {}
      },
      "source": [
        ""
      ],
      "execution_count": 0,
      "outputs": []
    },
    {
      "cell_type": "markdown",
      "metadata": {
        "id": "HyOiJXsSpzMY",
        "colab_type": "text"
      },
      "source": [
        "#member ship operators : in,not in"
      ]
    },
    {
      "cell_type": "code",
      "metadata": {
        "id": "uj9MM3U3p41n",
        "colab_type": "code",
        "colab": {
          "base_uri": "https://localhost:8080/",
          "height": 50
        },
        "outputId": "d2eac3ab-ab36-460a-90c6-b83023d538ea"
      },
      "source": [
        "list1 = [12,23,34,45,56,67]\n",
        "print(12 in list1)#true\n",
        "print(120 in list1)#false\n"
      ],
      "execution_count": 6,
      "outputs": [
        {
          "output_type": "stream",
          "text": [
            "True\n",
            "False\n"
          ],
          "name": "stdout"
        }
      ]
    },
    {
      "cell_type": "markdown",
      "metadata": {
        "id": "aC3iBy39pxSY",
        "colab_type": "text"
      },
      "source": [
        ""
      ]
    },
    {
      "cell_type": "markdown",
      "metadata": {
        "id": "n2R-0xLmr63F",
        "colab_type": "text"
      },
      "source": [
        ""
      ]
    },
    {
      "cell_type": "code",
      "metadata": {
        "id": "-cvsqL_HsUv1",
        "colab_type": "code",
        "colab": {
          "base_uri": "https://localhost:8080/",
          "height": 84
        },
        "outputId": "25b7c744-dc7f-4d4c-df0b-80a93e1d9ecf"
      },
      "source": [
        "a = int(input(\"enter the value of a :\"))\n",
        "b = int(input(\"enter the value of b :\"))\n",
        "c = int(input(\"enter the value of c :\"))\n",
        "if a>b and a>c:\n",
        "  print(\"a is greater\",a)\n",
        "elif b>c:\n",
        "  print(\"b is less largest\",b)\n",
        "else:\n",
        "  print(\"c is greater\",c)"
      ],
      "execution_count": 9,
      "outputs": [
        {
          "output_type": "stream",
          "text": [
            "enter the value of a :9\n",
            "enter the value of b :5\n",
            "enter the value of c :3\n",
            "a is greater 9\n"
          ],
          "name": "stdout"
        }
      ]
    },
    {
      "cell_type": "code",
      "metadata": {
        "id": "O9zZB7WGuyt_",
        "colab_type": "code",
        "colab": {}
      },
      "source": [
        "\n",
        "if a<b:\n",
        "  print(\"a is less than b\")\n",
        "else:\n",
        "  print(\"b is less than a\")"
      ],
      "execution_count": 0,
      "outputs": []
    }
  ]
}